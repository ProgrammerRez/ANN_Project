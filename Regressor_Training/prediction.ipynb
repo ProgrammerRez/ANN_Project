{
 "cells": [
  {
   "cell_type": "code",
   "execution_count": 1,
   "id": "7b641dd5",
   "metadata": {},
   "outputs": [],
   "source": [
    "import pandas as pd\n",
    "import pickle\n",
    "from tensorflow.keras.models import load_model"
   ]
  },
  {
   "cell_type": "code",
   "execution_count": 46,
   "id": "1db92be2",
   "metadata": {},
   "outputs": [],
   "source": [
    "# Example input data\n",
    "\n",
    "input_data = {\n",
    "    'CreditScore': 600,\n",
    "    'Geography' : 'France',\n",
    "    'Gender' : 'Male',\n",
    "    'Age' : 40,\n",
    "    'Tenure' : 3,\n",
    "    'Balance' : 60000,\n",
    "    'NumOfProducts' : 2,\n",
    "    'HasCrCard' : 1,\n",
    "    'IsActiveMember' : 1,\n",
    "    'Exited' : 1\n",
    "}"
   ]
  },
  {
   "cell_type": "code",
   "execution_count": 47,
   "id": "d520996a",
   "metadata": {},
   "outputs": [],
   "source": [
    "model = load_model('models./best_model.keras')"
   ]
  },
  {
   "cell_type": "code",
   "execution_count": 48,
   "id": "317de2b4",
   "metadata": {},
   "outputs": [],
   "source": [
    "with open('pipelines/label_encoder.pkl','rb') as f:\n",
    "    le = pickle.load(f)\n",
    "with open('pipelines/one_hot_encoding.pkl','rb') as f:\n",
    "    one = pickle.load(f)\n",
    "with open('pipelines/scaler.pkl','rb') as f:\n",
    "    scaler = pickle.load(f)\n",
    "    "
   ]
  },
  {
   "cell_type": "code",
   "execution_count": 53,
   "id": "a973b65f",
   "metadata": {},
   "outputs": [],
   "source": [
    "def predict(input_data, model, le, one, scaler):\n",
    "    input_df = pd.DataFrame([input_data])\n",
    "    # One-hot encode Geography\n",
    "    geo_vals = one.transform(input_df[['Geography']])\n",
    "    geo_cols = one.get_feature_names_out(['Geography'])\n",
    "    geo_df = pd.DataFrame(geo_vals, columns=geo_cols)\n",
    "    # Merge encoded columns\n",
    "    input_df = pd.concat([input_df, geo_df], axis=1)\n",
    "    input_df = input_df.drop(['Geography'], axis=1)\n",
    "    # Encode Gender\n",
    "    input_df['Gender'] = le.transform(input_df['Gender'])\n",
    "    # Reorder columns\n",
    "    input_df = input_df[scaler.feature_names_in_]\n",
    "    # Scale\n",
    "    input_df_scaled = scaler.transform(input_df)\n",
    "    # Predict\n",
    "    prediction = model.predict(input_df_scaled)\n",
    "    return prediction[0][0]\n"
   ]
  },
  {
   "cell_type": "code",
   "execution_count": 54,
   "id": "31703ac7",
   "metadata": {},
   "outputs": [
    {
     "name": "stdout",
     "output_type": "stream",
     "text": [
      "\u001b[1m1/1\u001b[0m \u001b[32m━━━━━━━━━━━━━━━━━━━━\u001b[0m\u001b[37m\u001b[0m \u001b[1m0s\u001b[0m 45ms/step\n"
     ]
    },
    {
     "data": {
      "text/plain": [
       "np.float32(1.0059038)"
      ]
     },
     "execution_count": 54,
     "metadata": {},
     "output_type": "execute_result"
    }
   ],
   "source": [
    "predict(input_data=input_data,model=model,le=le,one=one,scaler=scaler)"
   ]
  },
  {
   "cell_type": "code",
   "execution_count": null,
   "id": "f6dd9137",
   "metadata": {},
   "outputs": [],
   "source": []
  }
 ],
 "metadata": {
  "kernelspec": {
   "display_name": ".venv",
   "language": "python",
   "name": "python3"
  },
  "language_info": {
   "codemirror_mode": {
    "name": "ipython",
    "version": 3
   },
   "file_extension": ".py",
   "mimetype": "text/x-python",
   "name": "python",
   "nbconvert_exporter": "python",
   "pygments_lexer": "ipython3",
   "version": "3.12.4"
  }
 },
 "nbformat": 4,
 "nbformat_minor": 5
}
