{
 "cells": [
  {
   "cell_type": "code",
   "execution_count": null,
   "id": "a5a30130",
   "metadata": {},
   "outputs": [
    {
     "name": "stderr",
     "output_type": "stream",
     "text": [
      "C:\\Users\\DELL\\AppData\\Local\\Temp\\ipykernel_4952\\2035950234.py:9: DtypeWarning: Columns (3,4,5,6,12) have mixed types. Specify dtype option on import or set low_memory=False.\n",
      "  salaries_df = pd.read_csv(salaries_path)\n"
     ]
    }
   ],
   "source": [
    "import numpy as np\n",
    "import pandas as pd\n",
    "\n",
    "\n",
    "# Recreate the modified file (since it doesn't exist in current session)\n",
    "data_path = \"Data/Data.csv\"\n",
    "salaries_path = \"Data/Salaries.csv\"\n",
    "\n",
    "data_df = pd.read_csv(data_path)\n",
    "salaries_df = pd.read_csv(salaries_path)\n",
    "\n",
    "# Clean Salaries.csv\n",
    "salaries_df = salaries_df.drop(columns=['Id', 'EmployeeName', 'Notes', 'Agency', 'Status', 'Year'])\n",
    "salaries_df['BasePay'] = pd.to_numeric(salaries_df['BasePay'], errors='coerce')\n",
    "salaries_df['OvertimePay'] = pd.to_numeric(salaries_df['OvertimePay'], errors='coerce')\n",
    "salaries_df['OtherPay'] = pd.to_numeric(salaries_df['OtherPay'], errors='coerce')\n",
    "salaries_df['Benefits'] = pd.to_numeric(salaries_df['Benefits'], errors='coerce')\n",
    "salaries_df = salaries_df[salaries_df['TotalPayBenefits'] > 0]\n",
    "\n",
    "# Clean Data.csv\n",
    "data_df = data_df.drop(columns=['RowNumber', 'CustomerId', 'Surname', 'EstimatedSalary'])\n",
    "\n",
    "# Assign occupations randomly\n",
    "np.random.seed(42)\n",
    "data_df['Occupation'] = np.random.choice(salaries_df['JobTitle'].unique(), size=len(data_df))\n",
    "\n",
    "# Merge mean salary\n",
    "job_salaries = salaries_df.groupby('JobTitle')['TotalPayBenefits'].mean().reset_index()\n",
    "job_salaries.rename(columns={'JobTitle': 'Occupation', 'TotalPayBenefits': 'MeanSalary'}, inplace=True)\n",
    "data_df = data_df.merge(job_salaries, on='Occupation', how='left')\n",
    "\n",
    "# Feature engineering\n",
    "data_df['Age_Tenure_Score'] = (data_df['Age'] * data_df['Tenure'])\n",
    "data_df['Age_Tenure_Score'] = (data_df['Age_Tenure_Score'] - data_df['Age_Tenure_Score'].min()) / (data_df['Age_Tenure_Score'].max() - data_df['Age_Tenure_Score'].min())\n",
    "data_df['Credit_Score_Norm'] = (data_df['CreditScore'] - data_df['CreditScore'].min()) / (data_df['CreditScore'].max() - data_df['CreditScore'].min())\n",
    "data_df['Balance_Norm'] = (data_df['Balance'] - data_df['Balance'].min()) / (data_df['Balance'].max() - data_df['Balance'].min())\n",
    "\n",
    "# Realistic salary calculation\n",
    "data_df['RealisticSalary'] = (data_df['Age_Tenure_Score'] * 0.4 +\n",
    "                              data_df['Credit_Score_Norm'] * 0.3 +\n",
    "                              data_df['Balance_Norm'] * 0.3) * 200000 + 50000\n",
    "\n",
    "# Drop helper columns but keep Occupation\n",
    "data_df = data_df.drop(columns=['Age_Tenure_Score', 'Credit_Score_Norm', 'Balance_Norm', 'MeanSalary'])\n",
    "\n",
    "# Save to CSV\n",
    "output_path = \"Data/Modified_Data.csv\"\n",
    "data_df.to_csv(output_path, index=False)"
   ]
  },
  {
   "cell_type": "code",
   "execution_count": null,
   "id": "289e8a7d",
   "metadata": {},
   "outputs": [],
   "source": []
  }
 ],
 "metadata": {
  "kernelspec": {
   "display_name": ".venv",
   "language": "python",
   "name": "python3"
  },
  "language_info": {
   "codemirror_mode": {
    "name": "ipython",
    "version": 3
   },
   "file_extension": ".py",
   "mimetype": "text/x-python",
   "name": "python",
   "nbconvert_exporter": "python",
   "pygments_lexer": "ipython3",
   "version": "3.12.4"
  }
 },
 "nbformat": 4,
 "nbformat_minor": 5
}
