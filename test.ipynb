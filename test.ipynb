{
 "cells": [
  {
   "cell_type": "code",
   "execution_count": null,
   "id": "6ff7854f",
   "metadata": {},
   "outputs": [
    {
     "name": "stderr",
     "output_type": "stream",
     "text": [
      "WARNING:absl:Compiled the loaded model, but the compiled metrics have yet to be built. `model.compile_metrics` will be empty until you train or evaluate the model.\n"
     ]
    },
    {
     "name": "stdout",
     "output_type": "stream",
     "text": [
      "Final ordered columns: ['CreditScore', 'Gender', 'Age', 'Tenure', 'Balance', 'NumOfProducts', 'HasCrCard', 'IsActiveMember', 'EstimatedSalary', 'Geography_France', 'Geography_Germany', 'Geography_Spain']\n",
      "\u001b[1m1/1\u001b[0m \u001b[32m━━━━━━━━━━━━━━━━━━━━\u001b[0m\u001b[37m\u001b[0m \u001b[1m0s\u001b[0m 128ms/step\n",
      "(0.08083425462245941, '✅ The customer is **likely to stay** with the bank.')\n"
     ]
    }
   ],
   "source": [
    "import pandas as pd\n",
    "import pickle\n",
    "from tensorflow.keras.models import load_model\n",
    "\n",
    "def load_prediction_assets():\n",
    "    \"\"\"Loads the Keras model, encoders, and scaler.\"\"\"\n",
    "    try:\n",
    "        model = load_model('Classifier_Training/models/model.h5')\n",
    "        with open('Classifier_Training/pipelines/label_encoder.pkl', 'rb') as f:\n",
    "            label_encoder_gender = pickle.load(f)\n",
    "        with open('Classifier_Training/pipelines/one_hot_encoding.pkl', 'rb') as f:\n",
    "            one_hot_encoder = pickle.load(f)\n",
    "        with open('Classifier_Training/pipelines/scaler.pkl', 'rb') as f:\n",
    "            scaler = pickle.load(f)\n",
    "        return model, label_encoder_gender, one_hot_encoder, scaler\n",
    "    except FileNotFoundError as e:\n",
    "        print(f\"Fatal Error: Could not load model or pipeline files: {e}. The app cannot proceed.\")\n",
    "        return None, None, None, None\n",
    "\n",
    "\n",
    "keras_model, label_encoder_gender, one_hot_encoder, scaler = load_prediction_assets()\n",
    "\n",
    "def predict_churn(model, label_encoder, one_hot_encoder, scaler, input_data):\n",
    "    try:\n",
    "        input_df = pd.DataFrame([input_data])\n",
    "        # One-hot encode Geography\n",
    "        geo_one = one_hot_encoder.transform(input_df[[\"Geography\"]])\n",
    "        if hasattr(geo_one, \"toarray\"):\n",
    "            geo_one = geo_one.toarray()\n",
    "        geo_df = pd.DataFrame(geo_one, columns=one_hot_encoder.get_feature_names_out([\"Geography\"]))\n",
    "        \n",
    "        # Encode Gender\n",
    "        input_df[\"Gender\"] = label_encoder.transform(input_df[\"Gender\"])\n",
    "        \n",
    "        # Merge into final dataframe\n",
    "        final_df = pd.concat([input_df.drop([\"Geography\"], axis=1), geo_df], axis=1)\n",
    "        # ✅ Reorder columns to match training order\n",
    "        if hasattr(scaler, \"feature_names_in_\"):\n",
    "            final_df = final_df[scaler.feature_names_in_]\n",
    "        # Scale features\n",
    "        scaled_array = scaler.transform(final_df)\n",
    "        scaled_df = pd.DataFrame(scaled_array, columns=final_df.columns)\n",
    "        print(\"Final ordered columns:\", final_df.columns.tolist())\n",
    "        \n",
    "        # --- Prediction ---\n",
    "        prediction = model.predict(scaled_df)\n",
    "        proba = float(prediction[0][0])\n",
    "        result = \"⚠️ The customer is **likely to exit** the bank.\" if proba > 0.5 else \"✅ The customer is **likely to stay** with the bank.\"\n",
    "        \n",
    "        return proba, result\n",
    "    except Exception as e:\n",
    "        return None, f\"Prediction failed: {e}\"\n",
    "    \n",
    "\n",
    "input_data = {\n",
    "    'CreditScore': 650, 'Age': 38, 'Tenure': 5, 'Balance': 75000.0,\n",
    "    'NumOfProducts': 1, 'HasCrCard': 1, 'IsActiveMember': 1,\n",
    "    'Geography': 'France', 'Gender': 'Male', 'EstimatedSalary': 100000.0\n",
    "}\n",
    "\n",
    "print(predict_churn(model=keras_model,\n",
    "                    label_encoder=label_encoder_gender,\n",
    "                    one_hot_encoder=one_hot_encoder,\n",
    "                    scaler=scaler,\n",
    "                    input_data=input_data))\n"
   ]
  },
  {
   "cell_type": "code",
   "execution_count": null,
   "id": "7aeccaa5",
   "metadata": {},
   "outputs": [],
   "source": []
  }
 ],
 "metadata": {
  "kernelspec": {
   "display_name": ".venv",
   "language": "python",
   "name": "python3"
  },
  "language_info": {
   "codemirror_mode": {
    "name": "ipython",
    "version": 3
   },
   "file_extension": ".py",
   "mimetype": "text/x-python",
   "name": "python",
   "nbconvert_exporter": "python",
   "pygments_lexer": "ipython3",
   "version": "3.12.4"
  }
 },
 "nbformat": 4,
 "nbformat_minor": 5
}
