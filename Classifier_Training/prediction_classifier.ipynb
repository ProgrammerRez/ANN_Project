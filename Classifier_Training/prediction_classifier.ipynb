{
 "cells": [
  {
   "cell_type": "code",
   "execution_count": 45,
   "id": "bd19f48d",
   "metadata": {},
   "outputs": [],
   "source": [
    "import tensorflow as tf\n",
    "from tensorflow.keras.models import load_model\n",
    "import pickle\n",
    "import pandas as pd\n",
    "import numpy as np"
   ]
  },
  {
   "cell_type": "code",
   "execution_count": 46,
   "id": "814bd700",
   "metadata": {},
   "outputs": [
    {
     "name": "stderr",
     "output_type": "stream",
     "text": [
      "WARNING:absl:Compiled the loaded model, but the compiled metrics have yet to be built. `model.compile_metrics` will be empty until you train or evaluate the model.\n"
     ]
    }
   ],
   "source": [
    "# Load the trained model , scaler pickle , onehot\n",
    "model = load_model('models/model.h5')\n",
    "# load the encoder and scaaaler\n",
    "with open('pipelines/one_hot_encoding.pkl','rb') as file:\n",
    "    label_encoder_geo = pickle.load(file)\n",
    "with open('pipelines/label_encoder.pkl','rb') as file:\n",
    "    label_encoder_gender = pickle.load(file)\n",
    "with open('pipelines/scaler.pkl','rb') as file:\n",
    "    scaler = pickle.load(file)"
   ]
  },
  {
   "cell_type": "code",
   "execution_count": 47,
   "id": "37db5863",
   "metadata": {},
   "outputs": [],
   "source": [
    "# Example input data\n",
    "\n",
    "input_data = {\n",
    "    'CreditScore': 600,\n",
    "    'Geography' : 'France',\n",
    "    'Gender' : 'Male',\n",
    "    'Age' : 40,\n",
    "    'Tenure' : 3,\n",
    "    'Balance' : 60000,\n",
    "    'NumOfProducts' : 2,\n",
    "    'HasCrCard' : 1,\n",
    "    'IsActiveMember' : 1,\n",
    "    'EstimatedSalary' : 50000\n",
    "}"
   ]
  },
  {
   "cell_type": "code",
   "execution_count": 48,
   "id": "cc094643",
   "metadata": {},
   "outputs": [],
   "source": [
    "def predict_churn(model, label_encoder, one_hot_encoder, scaler, input_data):\n",
    "\n",
    "    input_df = pd.DataFrame([input_data])\n",
    "    geo_one = one_hot_encoder.transform(input_df[['Geography']])\n",
    "    if hasattr(geo_one, \"toarray\"):\n",
    "        geo_one = geo_one.toarray()\n",
    "    geo_df = pd.DataFrame(geo_one, columns=one_hot_encoder.get_feature_names_out(['Geography']))\n",
    "    input_df['Gender'] = label_encoder.transform(input_df['Gender'])\n",
    "    final_df = pd.concat([input_df.drop(['Geography'],axis=1),geo_df],axis=1)\n",
    "\n",
    "    scaled_df = scaler.transform(final_df)\n",
    "    prediction = model.predict(scaled_df)\n",
    "    proba = prediction[0][0]\n",
    "\n",
    "    return proba"
   ]
  },
  {
   "cell_type": "code",
   "execution_count": 49,
   "id": "67e507c2",
   "metadata": {},
   "outputs": [
    {
     "name": "stdout",
     "output_type": "stream",
     "text": [
      "\u001b[1m1/1\u001b[0m \u001b[32m━━━━━━━━━━━━━━━━━━━━\u001b[0m\u001b[37m\u001b[0m \u001b[1m0s\u001b[0m 111ms/step\n"
     ]
    },
    {
     "data": {
      "text/plain": [
       "np.float32(0.043509424)"
      ]
     },
     "execution_count": 49,
     "metadata": {},
     "output_type": "execute_result"
    }
   ],
   "source": [
    "predict_churn(model=model,label_encoder=label_encoder_gender,one_hot_encoder=label_encoder_geo,scaler=scaler,input_data=input_data)"
   ]
  },
  {
   "cell_type": "code",
   "execution_count": null,
   "id": "894aba71",
   "metadata": {},
   "outputs": [],
   "source": []
  }
 ],
 "metadata": {
  "kernelspec": {
   "display_name": ".venv",
   "language": "python",
   "name": "python3"
  },
  "language_info": {
   "codemirror_mode": {
    "name": "ipython",
    "version": 3
   },
   "file_extension": ".py",
   "mimetype": "text/x-python",
   "name": "python",
   "nbconvert_exporter": "python",
   "pygments_lexer": "ipython3",
   "version": "3.12.4"
  }
 },
 "nbformat": 4,
 "nbformat_minor": 5
}
